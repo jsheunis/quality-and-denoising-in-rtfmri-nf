{
 "cells": [
  {
   "cell_type": "markdown",
   "metadata": {},
   "source": [
    "# Exploring quality and denoising methodology and reporting in real-time fMRI neurofeedback\n",
    "\n",
    "By: Stephan Heunis"
   ]
  },
  {
   "cell_type": "markdown",
   "metadata": {},
   "source": [
    "## What is this?\n",
    "This is an interactive [Jupyter notebook](https://jupyter.org/) that allows you to explore the data generated in our recent work: [Quality and denoising in real-time fMRI neurofeedback: a methods review](https://osf.io/xubhq/)\n",
    "\n",
    "\n",
    "## Background\n",
    "My co-authors and I investigated the state of methods (mostly related to signal processing) used in the field of fMRI neurofeedback. We specifically looked at the acquisition and processing tools that are available to researchers applying fMRI neurofeedback to help them improve the quality of the BOLD and neurofeedback signals. Furthermore, we investigated the reporting practices of a set of 128 recently published studies applying neurofeedback in both healthy and patient populations.\n",
    "\n",
    "\n",
    "## Usage\n",
    "\n",
    "The notebook has 3 options to interactively explore the data:\n",
    "\n",
    "1. [Interactive Table A](#tableA): this is an Excel-like sheet with all the coded study data (128). You can filter the data by selecting options to include/exclude from each header cell. You can also re-order the data using the headings. When selecting a specific row (i.e. study), you can click on the \"Open Paper\" button above the table in order to open the paper in your browser.\n",
    "2. [Interactive Table B](#tableB): this is a variation of Table A, however you can not filter based on the table headings. Instead, you can use the dropdowns above the table to interactively filter to two levels.\n",
    "3. [Interactive Bar Plots](#plots): this allows you to display bar plots for each table heading (i.e. each coded category). This will show the distribution of options found in the 128 studies for the selected category. E.g. selecting \"Software\" will display a bar plot with the amount of studies that used a set of software toolboxes for real-time fMRI neurofeedback.\n",
    "\n",
    "## Abbreviations\n",
    "\n",
    "Real-time processing methods (in table headings):\n",
    "-\tstc = Slice timing correction\n",
    "-\tmc = Movement correction\n",
    "-\tss = Spatial smoothing\n",
    "-\tdr = drift removal\n",
    "-\thmp = 6 head movement parameter regression\n",
    "-\tts = Temporal smoothing/averaging\n",
    "-\tff = frequency filtering\n",
    "-\tor = Outlier/spike removal\n",
    "-\tdroi = Differential regions of interest (ROIs)\n",
    "-\tresp = Correction for respiratory effects\n",
    "\n",
    "Other:\n",
    "-\tCORR = Correlation\n",
    "-\tDNR = Did Not Report\n",
    "-\tN = No\n",
    "-\tREG = Regression\n",
    "-\tRETROICOR = Retrospective Image-based Correction\n",
    "-\tRT = Real-time\n",
    "-\tROI DIFF = Differential ROI\n",
    "-\tTBV = Turbo-BrainVoyager\n",
    "-\tY = Yes\n"
   ]
  },
  {
   "cell_type": "markdown",
   "metadata": {},
   "source": [
    "# Import required Python packages"
   ]
  },
  {
   "cell_type": "code",
   "execution_count": 1,
   "metadata": {},
   "outputs": [
    {
     "data": {
      "text/html": [
       "        <script type=\"text/javascript\">\n",
       "        window.PlotlyConfig = {MathJaxConfig: 'local'};\n",
       "        if (window.MathJax) {MathJax.Hub.Config({SVG: {font: \"STIX-Web\"}});}\n",
       "        if (typeof require !== 'undefined') {\n",
       "        require.undef(\"plotly\");\n",
       "        requirejs.config({\n",
       "            paths: {\n",
       "                'plotly': ['https://cdn.plot.ly/plotly-latest.min']\n",
       "            }\n",
       "        });\n",
       "        require(['plotly'], function(Plotly) {\n",
       "            window._Plotly = Plotly;\n",
       "        });\n",
       "        }\n",
       "        </script>\n",
       "        "
      ]
     },
     "metadata": {},
     "output_type": "display_data"
    },
    {
     "data": {
      "text/html": [
       "        <script type=\"text/javascript\">\n",
       "        window.PlotlyConfig = {MathJaxConfig: 'local'};\n",
       "        if (window.MathJax) {MathJax.Hub.Config({SVG: {font: \"STIX-Web\"}});}\n",
       "        if (typeof require !== 'undefined') {\n",
       "        require.undef(\"plotly\");\n",
       "        requirejs.config({\n",
       "            paths: {\n",
       "                'plotly': ['https://cdn.plot.ly/plotly-latest.min']\n",
       "            }\n",
       "        });\n",
       "        require(['plotly'], function(Plotly) {\n",
       "            window._Plotly = Plotly;\n",
       "        });\n",
       "        }\n",
       "        </script>\n",
       "        "
      ]
     },
     "metadata": {},
     "output_type": "display_data"
    }
   ],
   "source": [
    "## Don't change this, just let it be\n",
    "import sys\n",
    "sys.path.append(\"python\")\n",
    "from IPython.display import display, IFrame\n",
    "import IPython\n",
    "from plotly.offline import init_notebook_mode\n",
    "import cufflinks\n",
    "import scripts as scr\n",
    "cufflinks.go_offline(connected=True)\n",
    "init_notebook_mode(connected=True)"
   ]
  },
  {
   "cell_type": "markdown",
   "metadata": {},
   "source": [
    "<a id='tableA'></a>"
   ]
  },
  {
   "cell_type": "markdown",
   "metadata": {},
   "source": [
    "## 1 - Interactive Table A"
   ]
  },
  {
   "cell_type": "code",
   "execution_count": 2,
   "metadata": {
    "scrolled": true
   },
   "outputs": [
    {
     "data": {
      "application/vnd.jupyter.widget-view+json": {
       "model_id": "e7f7b514225442578720a8d8ed3b4a98",
       "version_major": 2,
       "version_minor": 0
      },
      "text/plain": [
       "Button(description='Open Paper', style=ButtonStyle())"
      ]
     },
     "metadata": {},
     "output_type": "display_data"
    },
    {
     "data": {
      "application/vnd.jupyter.widget-view+json": {
       "model_id": "6b1e76aef1c1482f966266d936675335",
       "version_major": 2,
       "version_minor": 0
      },
      "text/plain": [
       "QgridWidget(grid_options={'fullWidthRows': True, 'syncColumnCellResize': True, 'forceFitColumns': True, 'defau…"
      ]
     },
     "metadata": {},
     "output_type": "display_data"
    }
   ],
   "source": [
    "## Don't change this, just let it be\n",
    "filename = 'data/rtfMRI_methods_review_included_studies_procsteps.txt'\n",
    "filename_defaults = 'data/rtfMRI_methods_review_included_studies_procsteps_DEFAULTS.txt'\n",
    "fn = filename  \n",
    "qgw1 = scr.show_table1(fn)\n",
    "display(qgw1)"
   ]
  },
  {
   "cell_type": "markdown",
   "metadata": {},
   "source": [
    "<a id='tableB'></a>"
   ]
  },
  {
   "cell_type": "markdown",
   "metadata": {},
   "source": [
    "## 2 - Interactive Table B"
   ]
  },
  {
   "cell_type": "code",
   "execution_count": 3,
   "metadata": {
    "scrolled": false
   },
   "outputs": [
    {
     "data": {
      "application/vnd.jupyter.widget-view+json": {
       "model_id": "883a75ae90fe4c23ae60f32e4bdb7ffb",
       "version_major": 2,
       "version_minor": 0
      },
      "text/plain": [
       "Dropdown(options=('Vendor', 'Field strength', 'Software', 'Slice time correction', 'Movement correction', 'Spa…"
      ]
     },
     "metadata": {},
     "output_type": "display_data"
    },
    {
     "data": {
      "application/vnd.jupyter.widget-view+json": {
       "model_id": "34d9d6f9c2a04fed8f3ac9c957977f22",
       "version_major": 2,
       "version_minor": 0
      },
      "text/plain": [
       "Dropdown(options=('ALL', 'DNR', 'GE', 'Philips', 'Siemens'), value='ALL')"
      ]
     },
     "metadata": {},
     "output_type": "display_data"
    },
    {
     "data": {
      "application/vnd.jupyter.widget-view+json": {
       "model_id": "6b016b70c7b647a991ae7c63eb8fa620",
       "version_major": 2,
       "version_minor": 0
      },
      "text/plain": [
       "Output()"
      ]
     },
     "metadata": {},
     "output_type": "display_data"
    }
   ],
   "source": [
    "## Don't change this, just let it be\n",
    "filename = 'data/rtfMRI_methods_review_included_studies_procsteps.txt'\n",
    "filename_defaults = 'data/rtfMRI_methods_review_included_studies_procsteps_DEFAULTS.txt'\n",
    "fn = filename\n",
    "dropdown_cols, dropdown_col_opts, output_grid = scr.show_table2(fn)\n",
    "display(dropdown_cols)\n",
    "display(dropdown_col_opts)\n",
    "display(output_grid)"
   ]
  },
  {
   "cell_type": "markdown",
   "metadata": {},
   "source": [
    "<a id='plots'></a>"
   ]
  },
  {
   "cell_type": "markdown",
   "metadata": {},
   "source": [
    "## 3 - Interactive bar plots"
   ]
  },
  {
   "cell_type": "code",
   "execution_count": 4,
   "metadata": {},
   "outputs": [
    {
     "data": {
      "application/vnd.jupyter.widget-view+json": {
       "model_id": "228dda6880eb4a0db6c66fe77e723304",
       "version_major": 2,
       "version_minor": 0
      },
      "text/plain": [
       "Dropdown(options=('Vendor', 'Field strength', 'Software', 'Slice time correction', 'Movement correction', 'Spa…"
      ]
     },
     "metadata": {},
     "output_type": "display_data"
    },
    {
     "data": {
      "application/vnd.jupyter.widget-view+json": {
       "model_id": "df6146b787484dd39f2fa7831bf8f64d",
       "version_major": 2,
       "version_minor": 0
      },
      "text/plain": [
       "Output()"
      ]
     },
     "metadata": {},
     "output_type": "display_data"
    }
   ],
   "source": [
    "## Don't change this, just let it be\n",
    "filename = 'data/rtfMRI_methods_review_included_studies_procsteps.txt'\n",
    "filename_defaults = 'data/rtfMRI_methods_review_included_studies_procsteps_DEFAULTS.txt'\n",
    "fn = filename\n",
    "dropdown_cols2, output_plot = scr.show_plots(fn)\n",
    "display(dropdown_cols2)\n",
    "display(output_plot)"
   ]
  },
  {
   "cell_type": "code",
   "execution_count": null,
   "metadata": {},
   "outputs": [],
   "source": []
  }
 ],
 "metadata": {
  "kernelspec": {
   "display_name": "Python 3",
   "language": "python",
   "name": "python3"
  },
  "language_info": {
   "codemirror_mode": {
    "name": "ipython",
    "version": 3
   },
   "file_extension": ".py",
   "mimetype": "text/x-python",
   "name": "python",
   "nbconvert_exporter": "python",
   "pygments_lexer": "ipython3",
   "version": "3.8.0"
  },
  "pycharm": {
   "stem_cell": {
    "cell_type": "raw",
    "source": [],
    "metadata": {
     "collapsed": false
    }
   }
  }
 },
 "nbformat": 4,
 "nbformat_minor": 4
}